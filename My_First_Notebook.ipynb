{
 "cells": [
  {
   "cell_type": "markdown",
   "id": "740bb030-8e40-4e26-b092-b7ae713bb2ac",
   "metadata": {},
   "source": [
    "Author: Ansh  \n",
    "\n",
    "# My First Notebook\n"
   ]
  },
  {
   "cell_type": "markdown",
   "id": "20a6f6cc-917d-472a-a729-224595ed7278",
   "metadata": {},
   "source": [
    "This notebook contains my first data science exercises.\n",
    "\n"
   ]
  },
  {
   "cell_type": "markdown",
   "id": "f171f259-0139-4dec-a97b-077e5bf9d8d8",
   "metadata": {},
   "source": [
    "Data science relies on several programming languages. Here are some of the most commonly used:\n",
    "\n",
    "1. Python  \n",
    "2. R  \n",
    "3. SQL  \n",
    "4. Java  \n",
    "5. Scala\n"
   ]
  },
  {
   "cell_type": "markdown",
   "id": "191ee45d-1739-4e07-bea9-b82655031209",
   "metadata": {},
   "source": [
    "These are some popular libraries used in data science:\n",
    "\n",
    "1. Pandas  \n",
    "2. NumPy  \n",
    "3. Matplotlib  \n",
    "4. Scikit-learn  \n",
    "5. TensorFlow\n"
   ]
  },
  {
   "cell_type": "markdown",
   "id": "77731e4d-bf37-4166-af5e-46e1cd737a6c",
   "metadata": {},
   "source": [
    "| Tool Name     | Description                      |\n",
    "|---------------|----------------------------------|\n",
    "| Jupyter       | Interactive notebook environment |\n",
    "| RStudio       | IDE for R programming            |\n",
    "| Apache Zeppelin | Web-based notebook for data analysis |\n"
   ]
  },
  {
   "cell_type": "markdown",
   "id": "b599cbe5-5d6e-4510-931f-aaee3a385c25",
   "metadata": {},
   "source": [
    "Below are examples of simple arithmetic expressions using Python.\n"
   ]
  },
  {
   "cell_type": "code",
   "execution_count": 1,
   "id": "fb24c40a-5b07-46de-be66-b4b11e2e9718",
   "metadata": {},
   "outputs": [
    {
     "name": "stdout",
     "output_type": "stream",
     "text": [
      "The result is: 17\n"
     ]
    }
   ],
   "source": [
    "result = (3 * 4) + 5\n",
    "print(\"The result is:\", result)\n"
   ]
  },
  {
   "cell_type": "code",
   "execution_count": 2,
   "id": "e3ec0a73-c7bb-42f6-8004-4dd22da12ea2",
   "metadata": {},
   "outputs": [
    {
     "name": "stdout",
     "output_type": "stream",
     "text": [
      "2 hours is equal to 120 minutes.\n"
     ]
    }
   ],
   "source": [
    "hours = 2\n",
    "minutes = hours * 60\n",
    "print(f\"{hours} hours is equal to {minutes} minutes.\")\n"
   ]
  },
  {
   "cell_type": "markdown",
   "id": "488a98f5-3e6e-4ed4-b213-cfd63a792718",
   "metadata": {},
   "source": [
    "The objectives of this course include:\n",
    "\n",
    "- Understanding data science tools  \n",
    "- Learning how to use Jupyter Notebooks  \n",
    "- Exploring popular data science libraries  \n",
    "- Practicing basic Python operations  \n",
    "- Preparing for real-world data science tasks\n"
   ]
  },
  {
   "cell_type": "code",
   "execution_count": null,
   "id": "4c4d8632-190b-41d2-91aa-13435057c2d3",
   "metadata": {},
   "outputs": [],
   "source": []
  }
 ],
 "metadata": {
  "kernelspec": {
   "display_name": "Python 3 (ipykernel)",
   "language": "python",
   "name": "python3"
  },
  "language_info": {
   "codemirror_mode": {
    "name": "ipython",
    "version": 3
   },
   "file_extension": ".py",
   "mimetype": "text/x-python",
   "name": "python",
   "nbconvert_exporter": "python",
   "pygments_lexer": "ipython3",
   "version": "3.11.9"
  }
 },
 "nbformat": 4,
 "nbformat_minor": 5
}
